{
  "nbformat": 4,
  "nbformat_minor": 0,
  "metadata": {
    "colab": {
      "name": "podcast_download.ipynb",
      "provenance": [],
      "collapsed_sections": [],
      "authorship_tag": "ABX9TyPZcGjlZnftujef2ynx0CGP",
      "include_colab_link": true
    },
    "kernelspec": {
      "name": "python3",
      "display_name": "Python 3"
    },
    "language_info": {
      "name": "python"
    }
  },
  "cells": [
    {
      "cell_type": "markdown",
      "metadata": {
        "id": "view-in-github",
        "colab_type": "text"
      },
      "source": [
        "<a href=\"https://colab.research.google.com/github/JasonAHeron/PodBlock/blob/main/podcast_download.ipynb\" target=\"_parent\"><img src=\"https://colab.research.google.com/assets/colab-badge.svg\" alt=\"Open In Colab\"/></a>"
      ]
    },
    {
      "cell_type": "code",
      "metadata": {
        "colab": {
          "base_uri": "https://localhost:8080/"
        },
        "id": "6ouYMo8IYlMH",
        "outputId": "f0d4ed6a-192f-4884-d4d7-0fda6c1585ad"
      },
      "source": [
        "pip install feedparser pydub google-cloud-speech"
      ],
      "execution_count": null,
      "outputs": [
        {
          "output_type": "stream",
          "name": "stdout",
          "text": [
            "Requirement already satisfied: feedparser in /usr/local/lib/python3.7/dist-packages (6.0.8)\n",
            "Requirement already satisfied: pydub in /usr/local/lib/python3.7/dist-packages (0.25.1)\n",
            "Requirement already satisfied: google-cloud-speech in /usr/local/lib/python3.7/dist-packages (2.11.1)\n",
            "Requirement already satisfied: sgmllib3k in /usr/local/lib/python3.7/dist-packages (from feedparser) (1.0.0)\n",
            "Requirement already satisfied: proto-plus>=1.4.0 in /usr/local/lib/python3.7/dist-packages (from google-cloud-speech) (1.19.8)\n",
            "Requirement already satisfied: google-api-core[grpc]<3.0.0dev,>=1.28.0 in /usr/local/lib/python3.7/dist-packages (from google-cloud-speech) (2.2.2)\n",
            "Requirement already satisfied: libcst>=0.2.5 in /usr/local/lib/python3.7/dist-packages (from google-cloud-speech) (0.3.21)\n",
            "Requirement already satisfied: google-auth<3.0dev,>=1.25.0 in /usr/local/lib/python3.7/dist-packages (from google-api-core[grpc]<3.0.0dev,>=1.28.0->google-cloud-speech) (1.35.0)\n",
            "Requirement already satisfied: protobuf>=3.12.0 in /usr/local/lib/python3.7/dist-packages (from google-api-core[grpc]<3.0.0dev,>=1.28.0->google-cloud-speech) (3.19.1)\n",
            "Requirement already satisfied: googleapis-common-protos<2.0dev,>=1.52.0 in /usr/local/lib/python3.7/dist-packages (from google-api-core[grpc]<3.0.0dev,>=1.28.0->google-cloud-speech) (1.53.0)\n",
            "Requirement already satisfied: setuptools>=40.3.0 in /usr/local/lib/python3.7/dist-packages (from google-api-core[grpc]<3.0.0dev,>=1.28.0->google-cloud-speech) (57.4.0)\n",
            "Requirement already satisfied: requests<3.0.0dev,>=2.18.0 in /usr/local/lib/python3.7/dist-packages (from google-api-core[grpc]<3.0.0dev,>=1.28.0->google-cloud-speech) (2.23.0)\n",
            "Requirement already satisfied: grpcio-status<2.0dev,>=1.33.2 in /usr/local/lib/python3.7/dist-packages (from google-api-core[grpc]<3.0.0dev,>=1.28.0->google-cloud-speech) (1.41.1)\n",
            "Requirement already satisfied: grpcio<2.0dev,>=1.33.2 in /usr/local/lib/python3.7/dist-packages (from google-api-core[grpc]<3.0.0dev,>=1.28.0->google-cloud-speech) (1.41.1)\n",
            "Requirement already satisfied: six>=1.9.0 in /usr/local/lib/python3.7/dist-packages (from google-auth<3.0dev,>=1.25.0->google-api-core[grpc]<3.0.0dev,>=1.28.0->google-cloud-speech) (1.15.0)\n",
            "Requirement already satisfied: pyasn1-modules>=0.2.1 in /usr/local/lib/python3.7/dist-packages (from google-auth<3.0dev,>=1.25.0->google-api-core[grpc]<3.0.0dev,>=1.28.0->google-cloud-speech) (0.2.8)\n",
            "Requirement already satisfied: cachetools<5.0,>=2.0.0 in /usr/local/lib/python3.7/dist-packages (from google-auth<3.0dev,>=1.25.0->google-api-core[grpc]<3.0.0dev,>=1.28.0->google-cloud-speech) (4.2.4)\n",
            "Requirement already satisfied: rsa<5,>=3.1.4 in /usr/local/lib/python3.7/dist-packages (from google-auth<3.0dev,>=1.25.0->google-api-core[grpc]<3.0.0dev,>=1.28.0->google-cloud-speech) (4.7.2)\n",
            "Requirement already satisfied: typing-extensions>=3.7.4.2 in /usr/local/lib/python3.7/dist-packages (from libcst>=0.2.5->google-cloud-speech) (3.10.0.2)\n",
            "Requirement already satisfied: pyyaml>=5.2 in /usr/local/lib/python3.7/dist-packages (from libcst>=0.2.5->google-cloud-speech) (6.0)\n",
            "Requirement already satisfied: typing-inspect>=0.4.0 in /usr/local/lib/python3.7/dist-packages (from libcst>=0.2.5->google-cloud-speech) (0.7.1)\n",
            "Requirement already satisfied: pyasn1<0.5.0,>=0.4.6 in /usr/local/lib/python3.7/dist-packages (from pyasn1-modules>=0.2.1->google-auth<3.0dev,>=1.25.0->google-api-core[grpc]<3.0.0dev,>=1.28.0->google-cloud-speech) (0.4.8)\n",
            "Requirement already satisfied: chardet<4,>=3.0.2 in /usr/local/lib/python3.7/dist-packages (from requests<3.0.0dev,>=2.18.0->google-api-core[grpc]<3.0.0dev,>=1.28.0->google-cloud-speech) (3.0.4)\n",
            "Requirement already satisfied: urllib3!=1.25.0,!=1.25.1,<1.26,>=1.21.1 in /usr/local/lib/python3.7/dist-packages (from requests<3.0.0dev,>=2.18.0->google-api-core[grpc]<3.0.0dev,>=1.28.0->google-cloud-speech) (1.24.3)\n",
            "Requirement already satisfied: certifi>=2017.4.17 in /usr/local/lib/python3.7/dist-packages (from requests<3.0.0dev,>=2.18.0->google-api-core[grpc]<3.0.0dev,>=1.28.0->google-cloud-speech) (2021.10.8)\n",
            "Requirement already satisfied: idna<3,>=2.5 in /usr/local/lib/python3.7/dist-packages (from requests<3.0.0dev,>=2.18.0->google-api-core[grpc]<3.0.0dev,>=1.28.0->google-cloud-speech) (2.10)\n",
            "Requirement already satisfied: mypy-extensions>=0.3.0 in /usr/local/lib/python3.7/dist-packages (from typing-inspect>=0.4.0->libcst>=0.2.5->google-cloud-speech) (0.4.3)\n"
          ]
        }
      ]
    },
    {
      "cell_type": "code",
      "metadata": {
        "id": "VaomqNOHZEM8"
      },
      "source": [
        "import feedparser\n",
        "import os\n",
        "from collections import namedtuple\n",
        "import requests\n",
        "import tensorflow as tf\n",
        "from pydub import AudioSegment\n",
        "from google.colab import drive\n",
        "from google.colab import auth\n",
        "from googleapiclient.discovery import build\n",
        "from googleapiclient.http import MediaFileUpload\n",
        "from google.cloud import speech"
      ],
      "execution_count": null,
      "outputs": []
    },
    {
      "cell_type": "code",
      "metadata": {
        "colab": {
          "base_uri": "https://localhost:8080/"
        },
        "id": "Zp7gcLaUqMf5",
        "outputId": "89a10257-6a88-4c7a-934d-6bb5e6319717"
      },
      "source": [
        "auth.authenticate_user()\n",
        "drive.mount('/content/drive', force_remount=True)\n",
        "os.environ['GCP_PROJECT'] = 'podblock'\n",
        "os.environ['GOOGLE_APPLICATION_CREDENTIALS'] = '/content/drive/My Drive/podblock/gc-creds.json'\n",
        "\n",
        "speech_client = speech.SpeechClient()\n",
        "gcs_service = build('storage', 'v1')"
      ],
      "execution_count": null,
      "outputs": [
        {
          "output_type": "stream",
          "name": "stdout",
          "text": [
            "Mounted at /content/drive\n"
          ]
        }
      ]
    },
    {
      "cell_type": "code",
      "metadata": {
        "id": "MM1-MHS3Yy13"
      },
      "source": [
        "daily_rss_url = \"https://feeds.simplecast.com/54nAGcIl\"\n",
        "daily_rss_feed = feedparser.parse(daily_rss_url)\n",
        "daily_rss_entries = daily_rss_feed.entries"
      ],
      "execution_count": null,
      "outputs": []
    },
    {
      "cell_type": "code",
      "metadata": {
        "id": "Mg9LaNwiZKjF"
      },
      "source": [
        "Episode = namedtuple('Episode', ['title', 'url'])\n",
        "episodes = []\n",
        "for entry in daily_rss_entries:\n",
        "  episodes.append(Episode(entry['title'], entry['links'][1]['href']))"
      ],
      "execution_count": null,
      "outputs": []
    },
    {
      "cell_type": "code",
      "metadata": {
        "colab": {
          "base_uri": "https://localhost:8080/"
        },
        "id": "4TdsYs5todA2",
        "outputId": "e7b9bb01-ed10-489b-da18-d99afd23d4b1"
      },
      "source": [
        "try:\n",
        "  os.mkdir(\"/content/drive/My Drive/podblock/podcast_content\")\n",
        "except FileExistsError:\n",
        "    print(\"Folder already found\")\n",
        "try:\n",
        "  os.mkdir(\"/content/drive/My Drive/podblock/podcast_text\")\n",
        "except FileExistsError:\n",
        "    print(\"Folder already found\")\n",
        "try:\n",
        "  os.mkdir(\"/content/drive/My Drive/podblock/podcast_ads\")\n",
        "except FileExistsError:\n",
        "    print(\"Folder already found\")"
      ],
      "execution_count": null,
      "outputs": [
        {
          "output_type": "stream",
          "name": "stdout",
          "text": [
            "Folder already found\n",
            "Folder already found\n",
            "Folder already found\n"
          ]
        }
      ]
    },
    {
      "cell_type": "code",
      "metadata": {
        "id": "D94pmVNQJ55W"
      },
      "source": [
        "def uploadAudioFileToGcs(file_dir):\n",
        "  print(f\"Uploading {file_dir}\")\n",
        "  mp3 = AudioSegment.from_mp3(file_dir).set_channels(1)\n",
        "  flac_dir = f\"{file_dir[:-3]}flac\"\n",
        "  upload_filename = flac_dir.split('/')[-1]\n",
        "  mp3.export(flac_dir, format = \"flac\")\n",
        "  media = MediaFileUpload(flac_dir, resumable=True)\n",
        "  request = gcs_service.objects().insert(bucket='podblock_audio_full', \n",
        "                                         name=upload_filename,\n",
        "                                         media_body=media)\n",
        "  response = None\n",
        "  while response is None:\n",
        "    progress, response = request.next_chunk()\n",
        "  print(f'Upload {flac_dir} complete')\n",
        "  return f\"gs://podblock_audio_full/{upload_filename}\""
      ],
      "execution_count": null,
      "outputs": []
    },
    {
      "cell_type": "code",
      "metadata": {
        "id": "_n81OXFKUQW1"
      },
      "source": [
        "def recognize(gcs_uri):\n",
        "  audio = speech.RecognitionAudio(uri=gcs_uri)\n",
        "  config = speech.RecognitionConfig(\n",
        "      encoding=speech.RecognitionConfig.AudioEncoding.FLAC,\n",
        "      sample_rate_hertz=44100,\n",
        "      audio_channel_count=1,\n",
        "      enable_word_time_offsets=True,\n",
        "      enable_automatic_punctuation=True,\n",
        "      model=\"video\",\n",
        "      use_enhanced=True,\n",
        "      language_code=\"en-US\",\n",
        "  )\n",
        "  # Detects speech in the audio file\n",
        "  operation = speech_client.long_running_recognize(config=config, audio=audio)\n",
        "  print(\"Recognizing speech...\")\n",
        "  response = operation.result()\n",
        "  print(\"Speech recognition completed...\")\n",
        "  return response"
      ],
      "execution_count": null,
      "outputs": []
    },
    {
      "cell_type": "code",
      "metadata": {
        "id": "TfICz658XzKq"
      },
      "source": [
        "def uploadRecognizedTextToDrive(filename, response):\n",
        "  with open(f\"/content/drive/My Drive/podblock/podcast_text/{filename.split('.')[0]}.txt\", 'w') as f:\n",
        "    for result in response.results:\n",
        "      f.write(\"Result: {}\\n\".format(result))"
      ],
      "execution_count": null,
      "outputs": []
    },
    {
      "cell_type": "code",
      "metadata": {
        "id": "tzlaVPcZOAOD"
      },
      "source": [
        "second = 1000\n",
        "minute = 60 * second\n",
        "\n",
        "def writeAd(ad, episode_title, ad_set, pre_roll=True):\n",
        "  ad_slice = ad[4*second:-4*second]\n",
        "  if ad_slice.raw_data not in ad_set:\n",
        "    ad.export(f\"/content/drive/My Drive/podblock/podcast_ads/ad{'preroll' if pre_roll else ''}-{episode_title}.wav\", format=\"wav\", bitrate='16k')\n",
        "    ad_set.add(ad_slice)\n",
        "    return True\n",
        "  return False\n",
        "\n",
        "def encodeAndUploadAudioSegments(filename, ad_set):\n",
        "  podcast = AudioSegment.from_mp3(episode_dir).set_channels(1)\n",
        "  preroll_ad = podcast[:30 * second]\n",
        "  postroll_ad = podcast[-30 * second:]\n",
        "  content = podcast[31 * second:6 * minute]\n",
        "  if writeAd(preroll_ad, episode.title, ad_set):\n",
        "    output += f'wrote preroll\\t'\n",
        "  if writeAd(postroll_ad, episode.title, ad_set, pre_roll=False):\n",
        "    output += f'wrote postroll\\t'\n",
        "  content.export(f\"/content/drive/My Drive/podblock/podcast_content/content-{episode.title}.wav\", format=\"wav\", bitrate='16k')\n",
        "  output += f'ads captured {ad_set.length}'\n",
        "  print(output)"
      ],
      "execution_count": null,
      "outputs": []
    },
    {
      "cell_type": "code",
      "metadata": {
        "id": "Kx4Ob7MyjJdL",
        "colab": {
          "base_uri": "https://localhost:8080/"
        },
        "outputId": "e1f7c0d0-43b0-4c8b-a31a-d8ee94678210"
      },
      "source": [
        "ad_set = set()\n",
        "response = None\n",
        "filename = None\n",
        "gcs_uri = None\n",
        "for episode in episodes[:1]:\n",
        "  print(f\"Processing {episode.title}\\n\")\n",
        "  episode_dir = tf.keras.utils.get_file(f'{episode.title}.mp3', episode.url, cache_dir='./', cache_subdir='data')\n",
        "  filename = episode_dir.split('/')[-1]\n",
        "  gcs_uri = uploadAudioFileToGcs(episode_dir)\n",
        "  response = recognize(gcs_uri)"
      ],
      "execution_count": null,
      "outputs": [
        {
          "output_type": "stream",
          "name": "stdout",
          "text": [
            "Processing ‘How Did We Let People Die This Way?’\n",
            "\n",
            "Downloading data from https://dts.podtrac.com/redirect.mp3/chrt.fm/track/8DB4DB/pdst.fm/e/nyt.simplecastaudio.com/03d8b493-87fc-4bd1-931f-8a8e9b945d8a/episodes/8ba12bd0-d8f5-4aa3-9f43-873ee0ccaf46/audio/128/default.mp3?aid=rss_feed&awCollectionId=03d8b493-87fc-4bd1-931f-8a8e9b945d8a&awEpisodeId=8ba12bd0-d8f5-4aa3-9f43-873ee0ccaf46&feed=54nAGcIl\n",
            "33792000/33791045 [==============================] - 1s 0us/step\n",
            "33800192/33791045 [==============================] - 1s 0us/step\n",
            "Uploading ./data/‘How Did We Let People Die This Way?’.mp3\n",
            "Upload ./data/‘How Did We Let People Die This Way?’.flac complete\n",
            "Waiting for operation to complete...\n",
            "Operation completed...\n"
          ]
        }
      ]
    },
    {
      "cell_type": "code",
      "metadata": {
        "colab": {
          "base_uri": "https://localhost:8080/"
        },
        "id": "-7a-3xEFgEUx",
        "outputId": "200dfa12-cef7-426c-91a6-48e656c5a57f"
      },
      "source": [
        "response = recognize(gcs_uri)"
      ],
      "execution_count": null,
      "outputs": [
        {
          "output_type": "stream",
          "name": "stdout",
          "text": [
            "Waiting for operation to complete...\n",
            "Operation completed...\n"
          ]
        }
      ]
    },
    {
      "cell_type": "code",
      "metadata": {
        "id": "q5LqDNWFbChZ"
      },
      "source": [
        "uploadRecognizedTextToDrive(filename, response)"
      ],
      "execution_count": null,
      "outputs": []
    },
    {
      "cell_type": "code",
      "metadata": {
        "id": "VKNwT6Dzqxjp"
      },
      "source": [
        "drive.flush_and_unmount()\n"
      ],
      "execution_count": null,
      "outputs": []
    }
  ]
}