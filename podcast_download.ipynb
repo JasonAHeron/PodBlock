{
  "nbformat": 4,
  "nbformat_minor": 0,
  "metadata": {
    "colab": {
      "name": "podcast_download.ipynb",
      "provenance": [],
      "collapsed_sections": [],
      "authorship_tag": "ABX9TyMB2aVLtjYqziW8d0oUL6hq",
      "include_colab_link": true
    },
    "kernelspec": {
      "name": "python3",
      "display_name": "Python 3"
    },
    "language_info": {
      "name": "python"
    }
  },
  "cells": [
    {
      "cell_type": "markdown",
      "metadata": {
        "id": "view-in-github",
        "colab_type": "text"
      },
      "source": [
        "<a href=\"https://colab.research.google.com/github/JasonAHeron/PodBlock/blob/main/podcast_download.ipynb\" target=\"_parent\"><img src=\"https://colab.research.google.com/assets/colab-badge.svg\" alt=\"Open In Colab\"/></a>"
      ]
    },
    {
      "cell_type": "code",
      "metadata": {
        "id": "6ouYMo8IYlMH"
      },
      "source": [
        "pip install feedparser pydub google-cloud-speech recordtype"
      ],
      "execution_count": null,
      "outputs": []
    },
    {
      "cell_type": "code",
      "metadata": {
        "id": "VaomqNOHZEM8"
      },
      "source": [
        "import feedparser\n",
        "import os\n",
        "from recordtype import recordtype\n",
        "import requests\n",
        "import tensorflow as tf\n",
        "from pydub import AudioSegment\n",
        "from google.colab import drive\n",
        "from google.colab import auth\n",
        "from googleapiclient.discovery import build\n",
        "from googleapiclient.http import MediaFileUpload\n",
        "from google.cloud import speech"
      ],
      "execution_count": 26,
      "outputs": []
    },
    {
      "cell_type": "code",
      "metadata": {
        "colab": {
          "base_uri": "https://localhost:8080/"
        },
        "id": "Zp7gcLaUqMf5",
        "outputId": "062e2549-3f3a-4d74-de5e-67affdfbce6a"
      },
      "source": [
        "auth.authenticate_user()\n",
        "drive.mount('/content/drive', force_remount=True)\n",
        "os.environ['GCP_PROJECT'] = 'podblock'\n",
        "os.environ['GOOGLE_APPLICATION_CREDENTIALS'] = '/content/drive/My Drive/podblock/gc-creds.json'\n",
        "\n",
        "speech_client = speech.SpeechClient()\n",
        "gcs_service = build('storage', 'v1')"
      ],
      "execution_count": 2,
      "outputs": [
        {
          "output_type": "stream",
          "name": "stdout",
          "text": [
            "Mounted at /content/drive\n"
          ]
        }
      ]
    },
    {
      "cell_type": "code",
      "metadata": {
        "id": "MM1-MHS3Yy13"
      },
      "source": [
        "daily_rss_url = \"https://feeds.simplecast.com/54nAGcIl\"\n",
        "daily_rss_feed = feedparser.parse(daily_rss_url)\n",
        "daily_rss_entries = daily_rss_feed.entries"
      ],
      "execution_count": 3,
      "outputs": []
    },
    {
      "cell_type": "code",
      "metadata": {
        "id": "Mg9LaNwiZKjF"
      },
      "source": [
        "Episode = recordtype('Episode', 'title url file audio_segment')\n",
        "episodes = []\n",
        "for entry in daily_rss_entries:\n",
        "  episodes.append(Episode(entry['title'], entry['links'][1]['href'], '', ''))"
      ],
      "execution_count": 28,
      "outputs": []
    },
    {
      "cell_type": "code",
      "metadata": {
        "colab": {
          "base_uri": "https://localhost:8080/"
        },
        "id": "4TdsYs5todA2",
        "outputId": "bc9ccf41-b516-4e0d-d09d-0d1fa59ce3ce"
      },
      "source": [
        "try:\n",
        "  os.mkdir(\"/content/drive/My Drive/podblock/podcast_content\")\n",
        "except FileExistsError:\n",
        "    print(\"Folder already found\")\n",
        "try:\n",
        "  os.mkdir(\"/content/drive/My Drive/podblock/podcast_text\")\n",
        "except FileExistsError:\n",
        "    print(\"Folder already found\")\n",
        "try:\n",
        "  os.mkdir(\"/content/drive/My Drive/podblock/podcast_ads\")\n",
        "except FileExistsError:\n",
        "    print(\"Folder already found\")"
      ],
      "execution_count": 5,
      "outputs": [
        {
          "output_type": "stream",
          "name": "stdout",
          "text": [
            "Folder already found\n",
            "Folder already found\n",
            "Folder already found\n"
          ]
        }
      ]
    },
    {
      "cell_type": "code",
      "metadata": {
        "id": "D94pmVNQJ55W"
      },
      "source": [
        "def uploadAudioFileToGcs(episode):\n",
        "  print(f\"Uploading flac encoded audio to GCS for: {episode.title}\")\n",
        "  flac_dir = f\"{episode.file[:-3]}flac\"\n",
        "  upload_filename = flac_dir.split('/')[-1]\n",
        "  episode.audio_segment.export(flac_dir, format = \"flac\")\n",
        "  media = MediaFileUpload(flac_dir, resumable=True)\n",
        "  request = gcs_service.objects().insert(bucket='podblock_audio_full', \n",
        "                                         name=upload_filename,\n",
        "                                         media_body=media)\n",
        "  response = None\n",
        "  while response is None:\n",
        "    progress, response = request.next_chunk()\n",
        "  return f\"gs://podblock_audio_full/{upload_filename}\""
      ],
      "execution_count": 34,
      "outputs": []
    },
    {
      "cell_type": "code",
      "metadata": {
        "id": "_n81OXFKUQW1"
      },
      "source": [
        "def recognizeSTT(gcs_uri):\n",
        "  audio = speech.RecognitionAudio(uri=gcs_uri)\n",
        "  config = speech.RecognitionConfig(\n",
        "      encoding=speech.RecognitionConfig.AudioEncoding.FLAC,\n",
        "      sample_rate_hertz=44100,\n",
        "      audio_channel_count=1,\n",
        "      enable_word_time_offsets=True,\n",
        "      enable_automatic_punctuation=True,\n",
        "      model=\"video\",\n",
        "      use_enhanced=True,\n",
        "      language_code=\"en-US\",\n",
        "  )\n",
        "  # Detects speech in the audio file\n",
        "  operation = speech_client.long_running_recognize(config=config, audio=audio)\n",
        "  print(f\"Recognizing speech in : {gcs_uri}\")\n",
        "  response = operation.result()\n",
        "  print(\"Speech recognition completed\")\n",
        "  return response"
      ],
      "execution_count": 30,
      "outputs": []
    },
    {
      "cell_type": "code",
      "metadata": {
        "id": "TfICz658XzKq"
      },
      "source": [
        "def uploadRecognizedTextToDrive(title, stt_response):\n",
        "  with open(f\"/content/drive/My Drive/podblock/podcast_text/{title}.txt\", 'w') as f:\n",
        "    for result in stt_response.results:\n",
        "      f.write(\"Result: {}\\n\".format(result))"
      ],
      "execution_count": 31,
      "outputs": []
    },
    {
      "cell_type": "code",
      "metadata": {
        "id": "tzlaVPcZOAOD"
      },
      "source": [
        "second = 1000\n",
        "minute = 60 * second\n",
        "\n",
        "def encodeAndUploadAudioSegments(episode):\n",
        "  print(f\"Uploading wav encoded audio segments to drive for: {episode.title}\")\n",
        "  preroll_ad = episode.audio_segment[:30 * second]\n",
        "  postroll_ad = episode.audio_segment[-30 * second:]\n",
        "  content = episode.audio_segment[31 * second:6 * minute]\n",
        "\n",
        "  preroll_ad.export(f\"/content/drive/My Drive/podblock/podcast_ads/ad-preroll-{episode.title}.wav\", format=\"wav\", bitrate='16k')\n",
        "  postroll_ad.export(f\"/content/drive/My Drive/podblock/podcast_ads/ad-postroll-{episode.title}.wav\", format=\"wav\", bitrate='16k')\n",
        "  content.export(f\"/content/drive/My Drive/podblock/podcast_content/content-{episode.title}.wav\", format=\"wav\", bitrate='16k')\n"
      ],
      "execution_count": 37,
      "outputs": []
    },
    {
      "cell_type": "code",
      "metadata": {
        "id": "Kx4Ob7MyjJdL",
        "colab": {
          "base_uri": "https://localhost:8080/"
        },
        "outputId": "eaeaa35f-fc64-4e3c-e7f1-a779f2fd2894"
      },
      "source": [
        "stt_response = None\n",
        "gcs_uri = None\n",
        "selected_episode = None\n",
        "for episode in episodes:\n",
        "  if(input(f\"Want to process {episode.title}?\") == \"y\"):\n",
        "    print(f\"\\n\\nProcessing {episode.title}\")\n",
        "    episode.file = tf.keras.utils.get_file(f'{episode.title}.mp3', episode.url, cache_dir='./', cache_subdir='data')\n",
        "    episode.audio_segment = AudioSegment.from_mp3(episode.file).set_channels(1)\n",
        "    selected_episode = episode\n",
        "    \n",
        "    encodeAndUploadAudioSegments(episode)\n",
        "    gcs_uri = uploadAudioFileToGcs(episode)\n",
        "    #stt_response = recognizeSTT(gcs_uri)\n",
        "    break"
      ],
      "execution_count": 35,
      "outputs": [
        {
          "output_type": "stream",
          "name": "stdout",
          "text": [
            "Want to process The Sunday Read: ‘The Untold Story of Sushi in America’?n\n",
            "Want to process An Interview With Dr. Anthony Fauci?y\n",
            "Processing An Interview With Dr. Anthony Fauci\n",
            "\n",
            "Uploading wav encoded audio segments to drive for: An Interview With Dr. Anthony Fauci\n",
            "Uploading flac encoded audio to GCS for: An Interview With Dr. Anthony Fauci\n",
            "Upload ./data/An Interview With Dr. Anthony Fauci.flac complete\n"
          ]
        }
      ]
    },
    {
      "cell_type": "code",
      "metadata": {
        "colab": {
          "base_uri": "https://localhost:8080/"
        },
        "id": "-7a-3xEFgEUx",
        "outputId": "200dfa12-cef7-426c-91a6-48e656c5a57f"
      },
      "source": [
        "stt_response = recognizeSTT(gcs_uri)"
      ],
      "execution_count": null,
      "outputs": [
        {
          "output_type": "stream",
          "name": "stdout",
          "text": [
            "Waiting for operation to complete...\n",
            "Operation completed...\n"
          ]
        }
      ]
    },
    {
      "cell_type": "code",
      "metadata": {
        "id": "q5LqDNWFbChZ"
      },
      "source": [
        "uploadRecognizedTextToDrive(selected_episode.title, stt_response)"
      ],
      "execution_count": null,
      "outputs": []
    },
    {
      "cell_type": "code",
      "metadata": {
        "id": "VKNwT6Dzqxjp"
      },
      "source": [
        "drive.flush_and_unmount()\n"
      ],
      "execution_count": 36,
      "outputs": []
    }
  ]
}